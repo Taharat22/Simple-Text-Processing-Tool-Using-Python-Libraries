{
 "cells": [
  {
   "cell_type": "code",
   "execution_count": 4,
   "metadata": {},
   "outputs": [],
   "source": [
    "import re\n",
    "import nltk\n",
    "from langdetect import detect"
   ]
  },
  {
   "cell_type": "code",
   "execution_count": 76,
   "metadata": {},
   "outputs": [
    {
     "name": "stdout",
     "output_type": "stream",
     "text": [
      "This tool process only English language\n",
      "Invalid Language\n",
      "['name aric  email follow twitter id\\n', 'python widely used general purpose  high level programming language \\n', 'serial number \\n', 'said  beautifull song           \\n']\n"
     ]
    }
   ],
   "source": [
    "input_file_list=open('input.txt',encoding='utf8').readlines()\n",
    "lemmatizer=nltk.stem.WordNetLemmatizer()\n",
    "stop_words = set(nltk.corpus.stopwords.words('english'))\n",
    "final_list=[]\n",
    "for lines in input_file_list:\n",
    "    temp_string=lines\n",
    "    try:language=detect(temp_string)\n",
    "    except:\n",
    "        print(\"Invalid Language\")\n",
    "        continue\n",
    "    else:\n",
    "        if language =='en':\n",
    "            temp_string=temp_string.lower()\n",
    "            temp_string = re.sub(r'\\d+', '', temp_string)\n",
    "            temp_string = re.sub(r\"([a-zA-Z0-9_.+-]*@[a-zA-Z0-9_.+-]+)\", '', temp_string)\n",
    "            temp_string=re.sub('http[s]?://(?:[a-zA-Z]|[0-9]|[$-_@.&+]|[!*\\(\\),]|(?:%[0-9a-fA-F][0-9a-fA-F]))+','have for', temp_string)\n",
    "            tokens = nltk.tokenize.word_tokenize(temp_string)\n",
    "            result=[]\n",
    "            for word in tokens:\n",
    "                if not word in stop_words:\n",
    "                    word=lemmatizer.lemmatize(word)\n",
    "                    result.append(word)\n",
    "            temp_string=str(result)\n",
    "            temp_string= re.sub(r'[^\\w\\s]','', temp_string)\n",
    "            final_list.append(temp_string+'\\n')\n",
    "        else:\n",
    "            print('This tool process only English language')"
   ]
  },
  {
   "cell_type": "code",
   "execution_count": 70,
   "metadata": {},
   "outputs": [],
   "source": [
    "output_file=open('output.txt','w')\n",
    "output_file.writelines(final_list)\n",
    "output_file.close()"
   ]
  },
  {
   "cell_type": "code",
   "execution_count": null,
   "metadata": {},
   "outputs": [],
   "source": []
  }
 ],
 "metadata": {
  "kernelspec": {
   "display_name": "Python 3",
   "language": "python",
   "name": "python3"
  },
  "language_info": {
   "codemirror_mode": {
    "name": "ipython",
    "version": 3
   },
   "file_extension": ".py",
   "mimetype": "text/x-python",
   "name": "python",
   "nbconvert_exporter": "python",
   "pygments_lexer": "ipython3",
   "version": "3.7.4"
  }
 },
 "nbformat": 4,
 "nbformat_minor": 2
}
